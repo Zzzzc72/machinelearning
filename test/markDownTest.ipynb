{
 "cells": [
  {
   "cell_type": "markdown",
   "metadata": {
    "collapsed": true,
    "pycharm": {
     "name": "#%% md\n"
    }
   },
   "source": [
    "$ \\Gamma(z) = \\int_0^\\infty t^{z-1}e^{-t}dt\\,. $"
   ]
  },
  {
   "cell_type": "markdown",
   "source": [
    "| 左对齐 | 右对齐 | 居中对齐 |\n",
    "| :-----| ----: | :----: |\n",
    "| 单元格 | 单元格 | 单元格 |\n",
    "| 单元格 | 单元格 | 单元格 |"
   ],
   "metadata": {
    "collapsed": false,
    "pycharm": {
     "name": "#%% md\n"
    }
   }
  }
 ],
 "metadata": {
  "kernelspec": {
   "display_name": "Python 3",
   "language": "python",
   "name": "python3"
  },
  "language_info": {
   "codemirror_mode": {
    "name": "ipython",
    "version": 2
   },
   "file_extension": ".py",
   "mimetype": "text/x-python",
   "name": "python",
   "nbconvert_exporter": "python",
   "pygments_lexer": "ipython2",
   "version": "2.7.6"
  }
 },
 "nbformat": 4,
 "nbformat_minor": 0
}